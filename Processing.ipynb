{
 "cells": [
  {
   "cell_type": "code",
   "execution_count": 13,
   "metadata": {},
   "outputs": [],
   "source": [
    "path = \"D:\\Zach\\Desktop\\Data Structs\""
   ]
  },
  {
   "cell_type": "code",
   "execution_count": 12,
   "metadata": {},
   "outputs": [],
   "source": [
    "import pandas as pd\n",
    "directors = pd.read_csv(path + \"\\Writer_Directors.csv\")\n",
    "#movies = pd.read_csv(path + \"\\Movies_Only.csv\")"
   ]
  },
  {
   "cell_type": "code",
   "execution_count": 7,
   "metadata": {},
   "outputs": [],
   "source": [
    "movies = movies.drop(\"Unnamed: 0\", axis = 1)"
   ]
  },
  {
   "cell_type": "code",
   "execution_count": 13,
   "metadata": {},
   "outputs": [],
   "source": [
    "directors = directors.drop(\"Unnamed: 0\", axis = 1)"
   ]
  },
  {
   "cell_type": "code",
   "execution_count": 23,
   "metadata": {},
   "outputs": [],
   "source": [
    "movies = movies.set_index('tconst')\n",
    "directors = directors.set_index('tconst')"
   ]
  },
  {
   "cell_type": "code",
   "execution_count": 24,
   "metadata": {},
   "outputs": [
    {
     "name": "stdout",
     "output_type": "stream",
     "text": [
      "          titleType                 primaryTitle                originalTitle  \\\n",
      "tconst                                                                          \n",
      "tt0000502     movie                     Bohemios                     Bohemios   \n",
      "tt0000574     movie  The Story of the Kelly Gang  The Story of the Kelly Gang   \n",
      "tt0000615     movie           Robbery Under Arms           Robbery Under Arms   \n",
      "tt0000630     movie                       Hamlet                       Amleto   \n",
      "tt0000675     movie                  Don Quijote                  Don Quijote   \n",
      "\n",
      "           isAdult startYear endYear runtimeMinutes  \\\n",
      "tconst                                                \n",
      "tt0000502        0      1905      \\N            100   \n",
      "tt0000574        0      1906      \\N             70   \n",
      "tt0000615        0      1907      \\N             \\N   \n",
      "tt0000630        0      1908      \\N             \\N   \n",
      "tt0000675        0      1908      \\N             \\N   \n",
      "\n",
      "                               genres  \n",
      "tconst                                 \n",
      "tt0000502                          \\N  \n",
      "tt0000574  Action,Adventure,Biography  \n",
      "tt0000615                       Drama  \n",
      "tt0000630                       Drama  \n",
      "tt0000675                       Drama  \n",
      "           directors writers\n",
      "tconst                      \n",
      "tt0000001  nm0005690      \\N\n",
      "tt0000002  nm0721526      \\N\n",
      "tt0000003  nm0721526      \\N\n",
      "tt0000004  nm0721526      \\N\n",
      "tt0000005  nm0005690      \\N\n"
     ]
    }
   ],
   "source": [
    "print(movies.head())\n",
    "print(directors.head())"
   ]
  },
  {
   "cell_type": "code",
   "execution_count": null,
   "metadata": {},
   "outputs": [],
   "source": []
  },
  {
   "cell_type": "code",
   "execution_count": 25,
   "metadata": {},
   "outputs": [],
   "source": [
    "new_table = movies.join(directors, how = 'inner')"
   ]
  },
  {
   "cell_type": "code",
   "execution_count": 26,
   "metadata": {},
   "outputs": [
    {
     "name": "stdout",
     "output_type": "stream",
     "text": [
      "          titleType                 primaryTitle                originalTitle  \\\n",
      "tconst                                                                          \n",
      "tt0000502     movie                     Bohemios                     Bohemios   \n",
      "tt0000574     movie  The Story of the Kelly Gang  The Story of the Kelly Gang   \n",
      "tt0000615     movie           Robbery Under Arms           Robbery Under Arms   \n",
      "tt0000630     movie                       Hamlet                       Amleto   \n",
      "tt0000675     movie                  Don Quijote                  Don Quijote   \n",
      "\n",
      "           isAdult startYear endYear runtimeMinutes  \\\n",
      "tconst                                                \n",
      "tt0000502        0      1905      \\N            100   \n",
      "tt0000574        0      1906      \\N             70   \n",
      "tt0000615        0      1907      \\N             \\N   \n",
      "tt0000630        0      1908      \\N             \\N   \n",
      "tt0000675        0      1908      \\N             \\N   \n",
      "\n",
      "                               genres  directors  \\\n",
      "tconst                                             \n",
      "tt0000502                          \\N  nm0063413   \n",
      "tt0000574  Action,Adventure,Biography  nm0846879   \n",
      "tt0000615                       Drama  nm0533958   \n",
      "tt0000630                       Drama  nm0143333   \n",
      "tt0000675                       Drama  nm0194088   \n",
      "\n",
      "                                 writers  \n",
      "tconst                                    \n",
      "tt0000502  nm0063413,nm0657268,nm0675388  \n",
      "tt0000574                      nm0846879  \n",
      "tt0000615            nm0092809,nm0533958  \n",
      "tt0000630                      nm0000636  \n",
      "tt0000675                      nm0148859  \n"
     ]
    }
   ],
   "source": [
    "print(new_table.head())"
   ]
  },
  {
   "cell_type": "code",
   "execution_count": 27,
   "metadata": {},
   "outputs": [],
   "source": [
    "new_table.to_csv(path + \"\\Movies_with_writers.csv\")"
   ]
  },
  {
   "cell_type": "code",
   "execution_count": 2,
   "metadata": {},
   "outputs": [],
   "source": [
    "import pandas as pd\n",
    "supp = pd.read_csv(path + \"\\Supp_Cast.csv\")"
   ]
  },
  {
   "cell_type": "code",
   "execution_count": null,
   "metadata": {},
   "outputs": [],
   "source": []
  },
  {
   "cell_type": "code",
   "execution_count": 5,
   "metadata": {},
   "outputs": [
    {
     "name": "stdout",
     "output_type": "stream",
     "text": [
      "           ordering     nconst         category                      job  \\\n",
      "tconst                                                                     \n",
      "tt0000001         1  nm1588970             self                       \\N   \n",
      "tt0000001         2  nm0005690         director                       \\N   \n",
      "tt0000001         3  nm0374658  cinematographer  director of photography   \n",
      "tt0000002         1  nm0721526         director                       \\N   \n",
      "tt0000002         2  nm1335271         composer                       \\N   \n",
      "\n",
      "          characters  \n",
      "tconst                \n",
      "tt0000001   [\"Self\"]  \n",
      "tt0000001         \\N  \n",
      "tt0000001         \\N  \n",
      "tt0000002         \\N  \n",
      "tt0000002         \\N  \n"
     ]
    }
   ],
   "source": [
    "print(supp.head())"
   ]
  },
  {
   "cell_type": "code",
   "execution_count": 4,
   "metadata": {},
   "outputs": [],
   "source": [
    "supp = supp.set_index('tconst')\n",
    "supp = supp.drop(\"Unnamed: 0\", axis = 1)"
   ]
  },
  {
   "cell_type": "code",
   "execution_count": 10,
   "metadata": {},
   "outputs": [
    {
     "name": "stdout",
     "output_type": "stream",
     "text": [
      "Done\n"
     ]
    }
   ],
   "source": [
    "tempDict = dict()    \n",
    "for row, data in supp.iterrows():\n",
    "    if tempDict.get(data[1]) == None:\n",
    "        tempDict[data[1]] = list()\n",
    "    tempDict[data[1]].append(row)\n",
    "        \n",
    "print(\"Done\")"
   ]
  },
  {
   "cell_type": "code",
   "execution_count": 7,
   "metadata": {},
   "outputs": [
    {
     "name": "stdout",
     "output_type": "stream",
     "text": [
      "43629195\n"
     ]
    }
   ],
   "source": [
    "print(len(supp))"
   ]
  },
  {
   "cell_type": "code",
   "execution_count": null,
   "metadata": {},
   "outputs": [],
   "source": []
  },
  {
   "cell_type": "code",
   "execution_count": 40,
   "metadata": {},
   "outputs": [],
   "source": []
  },
  {
   "cell_type": "code",
   "execution_count": null,
   "metadata": {},
   "outputs": [],
   "source": []
  },
  {
   "cell_type": "code",
   "execution_count": null,
   "metadata": {},
   "outputs": [],
   "source": []
  },
  {
   "cell_type": "code",
   "execution_count": 11,
   "metadata": {},
   "outputs": [],
   "source": [
    "import csv\n",
    "with open('process.tsv', 'w', newline='\\n') as csvfile:\n",
    "    spamwriter = csv.writer(csvfile, delimiter='\\t')\n",
    "    for key in tempDict:\n",
    "        spamwriter.writerow([key, tempDict[key]])"
   ]
  },
  {
   "cell_type": "code",
   "execution_count": 12,
   "metadata": {},
   "outputs": [
    {
     "name": "stdout",
     "output_type": "stream",
     "text": [
      "4355240\n"
     ]
    }
   ],
   "source": [
    "print(len(tempDict))"
   ]
  },
  {
   "cell_type": "code",
   "execution_count": 15,
   "metadata": {},
   "outputs": [
    {
     "name": "stderr",
     "output_type": "stream",
     "text": [
      "C:\\Users\\Zach\\anaconda3\\lib\\site-packages\\IPython\\core\\interactiveshell.py:3063: DtypeWarning: Columns (6) have mixed types.Specify dtype option on import or set low_memory=False.\n",
      "  interactivity=interactivity, compiler=compiler, result=result)\n"
     ]
    }
   ],
   "source": [
    "movies = pd.read_csv(path + \"\\Movies_Only.csv\")"
   ]
  },
  {
   "cell_type": "code",
   "execution_count": 18,
   "metadata": {},
   "outputs": [
    {
     "name": "stdout",
     "output_type": "stream",
     "text": [
      "          titleType                 primaryTitle                originalTitle  \\\n",
      "tconst                                                                          \n",
      "tt0000502     movie                     Bohemios                     Bohemios   \n",
      "tt0000574     movie  The Story of the Kelly Gang  The Story of the Kelly Gang   \n",
      "tt0000615     movie           Robbery Under Arms           Robbery Under Arms   \n",
      "tt0000630     movie                       Hamlet                       Amleto   \n",
      "tt0000675     movie                  Don Quijote                  Don Quijote   \n",
      "\n",
      "           isAdult startYear endYear runtimeMinutes  \\\n",
      "tconst                                                \n",
      "tt0000502        0      1905      \\N            100   \n",
      "tt0000574        0      1906      \\N             70   \n",
      "tt0000615        0      1907      \\N             \\N   \n",
      "tt0000630        0      1908      \\N             \\N   \n",
      "tt0000675        0      1908      \\N             \\N   \n",
      "\n",
      "                               genres  \n",
      "tconst                                 \n",
      "tt0000502                          \\N  \n",
      "tt0000574  Action,Adventure,Biography  \n",
      "tt0000615                       Drama  \n",
      "tt0000630                       Drama  \n",
      "tt0000675                       Drama  \n"
     ]
    }
   ],
   "source": [
    "print(movies.head())"
   ]
  },
  {
   "cell_type": "code",
   "execution_count": 17,
   "metadata": {},
   "outputs": [],
   "source": [
    "movies = movies.set_index('tconst')\n",
    "movies = movies.drop(\"Unnamed: 0\", axis = 1)"
   ]
  },
  {
   "cell_type": "code",
   "execution_count": 20,
   "metadata": {},
   "outputs": [],
   "source": [
    "movies.to_csv(path + \"\\Final_Movies.tsv\", sep = '\\t')"
   ]
  },
  {
   "cell_type": "code",
   "execution_count": null,
   "metadata": {},
   "outputs": [],
   "source": []
  }
 ],
 "metadata": {
  "kernelspec": {
   "display_name": "Python 3",
   "language": "python",
   "name": "python3"
  },
  "language_info": {
   "codemirror_mode": {
    "name": "ipython",
    "version": 3
   },
   "file_extension": ".py",
   "mimetype": "text/x-python",
   "name": "python",
   "nbconvert_exporter": "python",
   "pygments_lexer": "ipython3",
   "version": "3.7.6"
  }
 },
 "nbformat": 4,
 "nbformat_minor": 4
}
